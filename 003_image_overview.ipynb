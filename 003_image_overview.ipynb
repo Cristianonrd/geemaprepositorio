{
 "cells": [
  {
   "cell_type": "markdown",
   "id": "a9146fad-1ccf-4c79-bf91-c636094f2dca",
   "metadata": {},
   "source": [
    "# Image overview"
   ]
  },
  {
   "cell_type": "markdown",
   "id": "3ad31951-22fa-41f9-9709-8611e673ceaf",
   "metadata": {},
   "source": [
    "Image Overview\n",
    "Raster data are represented as Image objects in Earth Engine. Images are composed of one or more bands and each band has its own name, data type, scale, mask and projection. Each image has metadata stored as a set of properties.\n",
    "In addition to loading images from the archive by an image ID, you can also create images from constants, lists or other suitable Earth Engine objects. The following illustrates methods for creating images, getting band subsets, and manipulating bands.\n",
    "More information about ee.Image can be found in the Earth Engine Documentation.\n"
   ]
  },
  {
   "cell_type": "code",
   "execution_count": 1,
   "id": "89ed7a85-d20f-499f-8962-63c89ffb1f79",
   "metadata": {},
   "outputs": [],
   "source": [
    "# Import libraries\n",
    "import ee\n",
    "import geemap"
   ]
  },
  {
   "cell_type": "markdown",
   "id": "d2dc339c-144c-42fc-a4c5-0455c873fdc4",
   "metadata": {},
   "source": [
    "#### Loading a single-band image"
   ]
  },
  {
   "cell_type": "markdown",
   "id": "237462fc-a341-489e-8076-0525dfd5f097",
   "metadata": {},
   "source": [
    "Images can be loaded by pasting an Earth Engine asset ID into the ee.Image constructor. You can find image IDs in the data catalog. For example, to load SRTM Digital Elevation Data:"
   ]
  },
  {
   "cell_type": "code",
   "execution_count": 3,
   "id": "8de836e8-45dc-4773-bdd4-8fd9ec42942f",
   "metadata": {},
   "outputs": [],
   "source": [
    "# Adicionando o mapa do gee\n",
    "Map = geemap.Map(center=(40, -100), zoom=4)\n"
   ]
  },
  {
   "cell_type": "code",
   "execution_count": 5,
   "id": "16741c4b-73b7-40a6-8510-c8178ad9454b",
   "metadata": {},
   "outputs": [],
   "source": [
    "# Adicionando o modelo srtm de 90 metros ao Map\n",
    "dem = ee.Image('CGIAR/SRTM90_V4')\n",
    "\n",
    "# Set visualization parameters.\n",
    "vis_params = {\n",
    "    'min': 0,\n",
    "    'max': 4000,\n",
    "    'palette': ['006633', 'E5FFCC', '662A00', 'D8D8D8', 'F5F5F5'],\n",
    "}\n",
    "Map.addLayer(dem, vis_params, \"DEM Vis\")\n",
    "\n"
   ]
  },
  {
   "cell_type": "markdown",
   "id": "a98e4502-4af8-4f4c-9128-165f386fd23c",
   "metadata": {},
   "source": [
    "Loading a multi-band image"
   ]
  },
  {
   "cell_type": "code",
   "execution_count": 7,
   "id": "58b42bd6-b424-4de0-a1a0-311d3632da68",
   "metadata": {},
   "outputs": [
    {
     "data": {
      "application/vnd.jupyter.widget-view+json": {
       "model_id": "801c0ff4b0c745af8465be3ce25a685a",
       "version_major": 2,
       "version_minor": 0
      },
      "text/plain": [
       "Map(bottom=25700.0, center=[37.474222306306004, -122.15868851593888], controls=(WidgetControl(options=['positi…"
      ]
     },
     "metadata": {},
     "output_type": "display_data"
    }
   ],
   "source": [
    "# Load an image.\n",
    "image = ee.Image('LANDSAT/LC08/C01/T1_SR/LC08_044034_20140318')\n",
    "\n",
    "# Definindo os parâmetros de visualização desta imagem:\n",
    "vis_params = {\n",
    "    'bands': ['B5', 'B4', 'B3'],\n",
    "    'min': 0.0,\n",
    "    'max': 3000,\n",
    "    'opacity': 1.0,\n",
    "    'gamma': 1.2,\n",
    "}\n",
    "\n",
    "# Center the map and display the image.\n",
    "Map.centerObject(image, zoom=8)\n",
    "# Adicionando a Imagem ao Map\n",
    "Map.addLayer(image, vis_params, \"Landsat Vis\")\n"
   ]
  },
  {
   "cell_type": "markdown",
   "id": "c522ac50-9bf0-4d3e-a29d-8a572deefe6e",
   "metadata": {},
   "source": [
    "Getting image properties"
   ]
  },
  {
   "cell_type": "code",
   "execution_count": 8,
   "id": "9c668457-e9bf-487e-afa8-8739e84ec7df",
   "metadata": {},
   "outputs": [
    {
     "data": {
      "text/plain": [
       "{'CLOUD_COVER': 0.06,\n",
       " 'CLOUD_COVER_LAND': 0.1,\n",
       " 'EARTH_SUN_DISTANCE': 0.995371,\n",
       " 'ESPA_VERSION': '2_23_0_1a',\n",
       " 'GEOMETRIC_RMSE_MODEL': 6.78,\n",
       " 'GEOMETRIC_RMSE_MODEL_X': 4.841,\n",
       " 'GEOMETRIC_RMSE_MODEL_Y': 4.747,\n",
       " 'IMAGE_DATE': '2014-03-18',\n",
       " 'IMAGE_QUALITY_OLI': 9,\n",
       " 'IMAGE_QUALITY_TIRS': 9,\n",
       " 'LANDSAT_ID': 'LC08_L1TP_044034_20140318_20170307_01_T1',\n",
       " 'LEVEL1_PRODUCTION_DATE': 1488849349000,\n",
       " 'NOMINAL_SCALE': 30,\n",
       " 'PIXEL_QA_VERSION': 'generate_pixel_qa_1.6.0',\n",
       " 'SATELLITE': 'LANDSAT_8',\n",
       " 'SENSING_TIME': '2014-03-18T18:46:32.0535800Z',\n",
       " 'SOLAR_AZIMUTH_ANGLE': 146.239578,\n",
       " 'SOLAR_ZENITH_ANGLE': 43.528934,\n",
       " 'SR_APP_VERSION': 'LaSRC_1.3.0',\n",
       " 'WRS_PATH': 44,\n",
       " 'WRS_ROW': 34,\n",
       " 'system:asset_size': '540.072009 MB',\n",
       " 'system:band_names': ['B1',\n",
       "  'B2',\n",
       "  'B3',\n",
       "  'B4',\n",
       "  'B5',\n",
       "  'B6',\n",
       "  'B7',\n",
       "  'B10',\n",
       "  'B11',\n",
       "  'sr_aerosol',\n",
       "  'pixel_qa',\n",
       "  'radsat_qa'],\n",
       " 'system:id': 'LANDSAT/LC08/C01/T1_SR/LC08_044034_20140318',\n",
       " 'system:index': 'LC08_044034_20140318',\n",
       " 'system:time_end': '2014-03-18 18:46:32',\n",
       " 'system:time_start': '2014-03-18 18:46:32',\n",
       " 'system:version': 1522720282729760.0}"
      ]
     },
     "execution_count": 8,
     "metadata": {},
     "output_type": "execute_result"
    }
   ],
   "source": [
    "props = geemap.image_props(image)\n",
    "props.getInfo()"
   ]
  },
  {
   "cell_type": "markdown",
   "id": "f08095f3-fb73-45cc-872c-bbfce30ef5ec",
   "metadata": {},
   "source": [
    "### Selecting image bands"
   ]
  },
  {
   "cell_type": "code",
   "execution_count": 11,
   "id": "97cd03a7-557b-4c0e-acc7-a7578cff7643",
   "metadata": {},
   "outputs": [
    {
     "data": {
      "application/vnd.jupyter.widget-view+json": {
       "model_id": "801c0ff4b0c745af8465be3ce25a685a",
       "version_major": 2,
       "version_minor": 0
      },
      "text/plain": [
       "Map(bottom=25722.0, center=[37.37692355212074, -122.05398559570314], controls=(WidgetControl(options=['positio…"
      ]
     },
     "metadata": {},
     "output_type": "display_data"
    }
   ],
   "source": [
    "bands = image.select(['B5', 'B4', 'B3'])\n",
    "# adicionando a variável apenas com as bandas selecionadas ao Map\n",
    "Map.addLayer(bands, vis_params, 'Landsat B543')\n"
   ]
  },
  {
   "cell_type": "markdown",
   "id": "af7b406b-5581-4e00-9bb9-6268db26b680",
   "metadata": {},
   "source": [
    "### Renaming band names"
   ]
  },
  {
   "cell_type": "code",
   "execution_count": 12,
   "id": "d41e66de-5668-4bfe-b839-198d7ce3afa4",
   "metadata": {},
   "outputs": [],
   "source": [
    "new_image = image.select(['B5', 'B4', 'B3'], ['NIR', 'Red', 'Green'])\n",
    "band_names = new_image.bandNames()"
   ]
  },
  {
   "cell_type": "code",
   "execution_count": 13,
   "id": "4821d96e-c204-4fa6-86c1-b7312e703dff",
   "metadata": {},
   "outputs": [
    {
     "data": {
      "text/plain": [
       "['NIR', 'Red', 'Green']"
      ]
     },
     "execution_count": 13,
     "metadata": {},
     "output_type": "execute_result"
    }
   ],
   "source": [
    "band_names.getInfo()"
   ]
  },
  {
   "cell_type": "markdown",
   "id": "faa7158d-8cfb-4ccf-b3e8-559453a7a829",
   "metadata": {},
   "source": [
    "### Adding a legend"
   ]
  },
  {
   "cell_type": "code",
   "execution_count": 16,
   "id": "63f880a1-32fa-40f0-a502-8b4b0621048f",
   "metadata": {},
   "outputs": [],
   "source": [
    "Map = geemap.Map()\n",
    "Map.add_basemap('HYBRID')\n"
   ]
  },
  {
   "cell_type": "code",
   "execution_count": 17,
   "id": "03d85d61-f904-4c7d-a2c2-bd742cd8d37b",
   "metadata": {},
   "outputs": [
    {
     "data": {
      "application/vnd.jupyter.widget-view+json": {
       "model_id": "42ea107c13784963bbdcec3940f7d1b5",
       "version_major": 2,
       "version_minor": 0
      },
      "text/plain": [
       "Map(center=[20, 0], controls=(WidgetControl(options=['position', 'transparent_bg'], widget=HBox(children=(Togg…"
      ]
     },
     "metadata": {},
     "output_type": "display_data"
    }
   ],
   "source": [
    "landcover = ee.Image('USGS/NLCD/NLCD2016').select('landcover')\n",
    "Map.addLayer(landcover, {}, 'Land Cover')\n",
    "Map.add_legend(builtin_legend='NLCD', layer_name='Land Cover')\n",
    "Map\n"
   ]
  },
  {
   "cell_type": "code",
   "execution_count": null,
   "id": "96e2611e-0904-4e63-9a0e-e5c3850cf13d",
   "metadata": {},
   "outputs": [],
   "source": []
  }
 ],
 "metadata": {
  "kernelspec": {
   "display_name": "Python 3 (ipykernel)",
   "language": "python",
   "name": "python3"
  },
  "language_info": {
   "codemirror_mode": {
    "name": "ipython",
    "version": 3
   },
   "file_extension": ".py",
   "mimetype": "text/x-python",
   "name": "python",
   "nbconvert_exporter": "python",
   "pygments_lexer": "ipython3",
   "version": "3.9.0"
  }
 },
 "nbformat": 4,
 "nbformat_minor": 5
}
