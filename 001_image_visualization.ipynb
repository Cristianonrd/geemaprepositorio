{
 "cells": [
  {
   "cell_type": "code",
   "execution_count": 4,
   "id": "51c7c59c-6751-467e-aaa7-ce7a1ad8d04b",
   "metadata": {},
   "outputs": [],
   "source": [
    "import ee\n",
    "import geemap"
   ]
  },
  {
   "cell_type": "code",
   "execution_count": 5,
   "id": "3d52773d-91a1-4ad6-b66e-4e466cde561f",
   "metadata": {},
   "outputs": [
    {
     "data": {
      "application/vnd.jupyter.widget-view+json": {
       "model_id": "5716a3a8c66046c7841083ca6216e137",
       "version_major": 2,
       "version_minor": 0
      },
      "text/plain": [
       "Map(center=[37.501, -122.1899], controls=(WidgetControl(options=['position', 'transparent_bg'], widget=HBox(ch…"
      ]
     },
     "metadata": {},
     "output_type": "display_data"
    }
   ],
   "source": [
    "# Create a default map\n",
    "Map = geemap.Map()\n",
    "\n",
    "# Load an image.\n",
    "image = ee.Image('LANDSAT/LC08/C01/T1_TOA/LC08_044034_20140318')\n",
    "\n",
    "# Create an NDWI image, define visualization parameters and display.\n",
    "ndwi = image.normalizedDifference(['B3', 'B5'])\n",
    "ndwiViz = {'min': 0.5, 'max': 1, 'palette': ['00FFFF', '0000FF']}\n",
    "Map.setCenter(-122.1899, 37.5010, 10)  # San Francisco Bay\n",
    "Map.addLayer(ndwi, ndwiViz, 'NDWI', False)\n",
    "\n",
    "# Display the map\n",
    "Map\n",
    "\n"
   ]
  },
  {
   "cell_type": "markdown",
   "id": "d32cabb3-da24-49e4-ae91-1d0c829e1559",
   "metadata": {},
   "source": [
    "## Masking"
   ]
  },
  {
   "cell_type": "markdown",
   "id": "ea93a424-ff9c-42c2-8c88-65f9aad05815",
   "metadata": {},
   "source": [
    "You can use image.updateMask() to set the opacity of individual pixels based on where pixels in a mask image are non-zero. Pixels equal to zero in the mask are excluded from computations and the opacity is set to 0 for display. The following example uses an NDWI threshold (see the Relational Operations section for information on thresholds) to update the mask on the NDWI layer created previously:"
   ]
  },
  {
   "cell_type": "code",
   "execution_count": 6,
   "id": "3f56fdbb-3135-44c9-b2da-0652c8294755",
   "metadata": {},
   "outputs": [
    {
     "data": {
      "application/vnd.jupyter.widget-view+json": {
       "model_id": "5716a3a8c66046c7841083ca6216e137",
       "version_major": 2,
       "version_minor": 0
      },
      "text/plain": [
       "Map(bottom=101876.0, center=[37.501, -122.1899], controls=(WidgetControl(options=['position', 'transparent_bg'…"
      ]
     },
     "metadata": {},
     "output_type": "display_data"
    }
   ],
   "source": [
    "# Mask the non-watery parts of the image, where NDWI < 0.4.\n",
    "ndwiMasked = ndwi.updateMask(ndwi.gte(0.4))\n",
    "Map.addLayer(ndwiMasked, ndwiViz, 'NDWI masked')\n",
    "Map"
   ]
  },
  {
   "cell_type": "markdown",
   "id": "865a5676-4049-4e2a-bf25-ad215502f1c7",
   "metadata": {},
   "source": [
    "## Visualization images"
   ]
  },
  {
   "cell_type": "markdown",
   "id": "63009851-fe3c-44ab-b724-a239d01cd1b1",
   "metadata": {},
   "source": [
    "Use the image.visualize() method to convert an image into an 8-bit RGB image for display or export. For example, to convert the false-color composite and NDWI to 3-band display images, use:"
   ]
  },
  {
   "cell_type": "code",
   "execution_count": 7,
   "id": "39bff903-b67c-4bce-b661-c4e4bfa74e93",
   "metadata": {},
   "outputs": [
    {
     "data": {
      "application/vnd.jupyter.widget-view+json": {
       "model_id": "ea07eaa8ebb9401795c8129d4b6cdd27",
       "version_major": 2,
       "version_minor": 0
      },
      "text/plain": [
       "Map(center=[37.501, -122.1899], controls=(WidgetControl(options=['position', 'transparent_bg'], widget=HBox(ch…"
      ]
     },
     "metadata": {},
     "output_type": "display_data"
    }
   ],
   "source": [
    "# Create a default map\n",
    "Map = geemap.Map()\n",
    "\n",
    "# Load an image.\n",
    "image = ee.Image('LANDSAT/LC08/C01/T1_TOA/LC08_044034_20140318')\n",
    "\n",
    "# Create an NDWI image, define visualization parameters and display.\n",
    "ndwi = image.normalizedDifference(['B3', 'B5'])\n",
    "ndwiViz = {'min': 0.5, 'max': 1, 'palette': ['00FFFF', '0000FF']}\n",
    "Map.setCenter(-122.1899, 37.5010, 10)  # San Francisco Bay\n",
    "Map.addLayer(ndwi, ndwiViz, 'NDWI', False)\n",
    "\n",
    "# Mask the non-watery parts of the image, where NDWI < 0.4.\n",
    "ndwiMasked = ndwi.updateMask(ndwi.gte(0.4))\n",
    "Map.addLayer(ndwiMasked, ndwiViz, 'NDWI masked', False)\n",
    "\n",
    "# Create visualization layers.\n",
    "imageRGB = image.visualize(**{'bands': ['B5', 'B4', 'B3'], 'max': 0.5})\n",
    "ndwiRGB = ndwiMasked.visualize(\n",
    "    **{'min': 0.5, 'max': 1, 'palette': ['00FFFF', '0000FF']}\n",
    ")\n",
    "\n",
    "Map.addLayer(imageRGB, {}, 'imageRGB')\n",
    "Map.addLayer(ndwiRGB, {}, 'ndwiRGB')\n",
    "\n",
    "\n",
    "# Display the map\n",
    "Map"
   ]
  },
  {
   "cell_type": "markdown",
   "id": "3adac2e0-bde7-4606-8ed8-c18b6562d464",
   "metadata": {},
   "source": [
    "## Mosaicking"
   ]
  },
  {
   "cell_type": "markdown",
   "id": "7508f459-7ea4-43fe-a6c4-fbf4c88a9718",
   "metadata": {},
   "source": [
    "You can use masking and imageCollection.mosaic() (see the Mosaicking section for information on mosaicking) to achieve various cartographic effects. The mosaic() method renders layers in the output image according to their order in the input collection. The following example uses mosaic() to combine the masked NDWI and the false color composite and obtain a new visualization.\n",
    "\n",
    "In this example, observe that a list of the two visualization images is provided to the ImageCollection constructor. The order of the list determines the order in which the images are rendered on the map. The result should look something like below."
   ]
  },
  {
   "cell_type": "code",
   "execution_count": 8,
   "id": "0ad021f7-58aa-4028-8df6-d46ae949853d",
   "metadata": {},
   "outputs": [
    {
     "data": {
      "application/vnd.jupyter.widget-view+json": {
       "model_id": "ea07eaa8ebb9401795c8129d4b6cdd27",
       "version_major": 2,
       "version_minor": 0
      },
      "text/plain": [
       "Map(bottom=101876.0, center=[37.501, -122.1899], controls=(WidgetControl(options=['position', 'transparent_bg'…"
      ]
     },
     "metadata": {},
     "output_type": "display_data"
    }
   ],
   "source": [
    "# Mosaic the visualization layers and display (or export).\n",
    "mosaic = ee.ImageCollection([imageRGB, ndwiRGB]).mosaic()\n",
    "Map.addLayer(mosaic, {}, 'mosaic')\n",
    "\n",
    "# Display the map\n",
    "Map"
   ]
  },
  {
   "cell_type": "markdown",
   "id": "7a0e10e8-5c3f-42b7-b602-ee1c3186db09",
   "metadata": {},
   "source": [
    "## Clipping"
   ]
  },
  {
   "cell_type": "markdown",
   "id": "01aa301a-22bc-4316-bd50-69102e7128c3",
   "metadata": {},
   "source": [
    "The image.clip() method is useful for achieving cartographic effects. The following example clips the mosaic shown above to an arbitrary buffer zone around the city of San Francisco.\n",
    "\n",
    "Note that the coordinates are provided to the Geometry constructor and the buffer length is specified as 20,000 meters. Learn more about geometries on the Geometries page. The result, shown with the map in the background, should look something like below."
   ]
  },
  {
   "cell_type": "code",
   "execution_count": 9,
   "id": "37609023-f512-4355-bb64-83c16b6138db",
   "metadata": {},
   "outputs": [
    {
     "data": {
      "application/vnd.jupyter.widget-view+json": {
       "model_id": "ea07eaa8ebb9401795c8129d4b6cdd27",
       "version_major": 2,
       "version_minor": 0
      },
      "text/plain": [
       "Map(bottom=102022.0, center=[37.34177550214861, -121.96060180664064], controls=(WidgetControl(options=['positi…"
      ]
     },
     "metadata": {},
     "output_type": "display_data"
    }
   ],
   "source": [
    "# Create a circle by drawing a 20000 meter buffer around a point.\n",
    "roi = ee.Geometry.Point([-122.4481, 37.7599]).buffer(20000)\n",
    "clipped = mosaic.clip(roi)\n",
    "\n",
    "# Display a clipped version of the mosaic.\n",
    "Map.addLayer(clipped, {}, 'Clipped image')\n",
    "\n",
    "# Display the map\n",
    "Map"
   ]
  },
  {
   "cell_type": "markdown",
   "id": "62d053fc-d090-4d4c-b70e-5dbb5f84a349",
   "metadata": {},
   "source": [
    "## Rendering categorical maps"
   ]
  },
  {
   "cell_type": "markdown",
   "id": "7ae7f22b-4c85-47e8-848e-5e1289f03a42",
   "metadata": {},
   "source": [
    "Palettes are also useful for rendering discrete valued maps, for example a land cover map. In the case of multiple classes, use the palette to supply a different color for each class. (The image.remap() method may be useful in this context, to convert arbitrary labels to consecutive integers). The following example uses a palette to render land cover categories:"
   ]
  },
  {
   "cell_type": "code",
   "execution_count": 10,
   "id": "90562c8d-73dc-4b2a-9e31-685ef2fa9e8b",
   "metadata": {},
   "outputs": [
    {
     "data": {
      "application/vnd.jupyter.widget-view+json": {
       "model_id": "ea07eaa8ebb9401795c8129d4b6cdd27",
       "version_major": 2,
       "version_minor": 0
      },
      "text/plain": [
       "Map(bottom=202967.0, center=[40.413, -99.229], controls=(WidgetControl(options=['position', 'transparent_bg'],…"
      ]
     },
     "metadata": {},
     "output_type": "display_data"
    }
   ],
   "source": [
    "# Load 2012 MODIS land cover and select the IGBP classification.\n",
    "cover = ee.Image('MODIS/051/MCD12Q1/2012_01_01').select('Land_Cover_Type_1')\n",
    "\n",
    "# Define a palette for the 18 distinct land cover classes.\n",
    "igbpPalette = [\n",
    "    'aec3d4',  # water\n",
    "    '152106',\n",
    "    '225129',\n",
    "    '369b47',\n",
    "    '30eb5b',\n",
    "    '387242',  # forest\n",
    "    '6a2325',\n",
    "    'c3aa69',\n",
    "    'b76031',\n",
    "    'd9903d',\n",
    "    '91af40',  # shrub, grass\n",
    "    '111149',  # wetlands\n",
    "    'cdb33b',  # croplands\n",
    "    'cc0013',  # urban\n",
    "    '33280d',  # crop mosaic\n",
    "    'd7cdcc',  # snow and ice\n",
    "    'f7e084',  # barren\n",
    "    '6f6f6f',  # tundra\n",
    "]\n",
    "# Specify the min and max labels and the color palette matching the labels.\n",
    "Map.setCenter(-99.229, 40.413, 5)\n",
    "Map.addLayer(\n",
    "    cover, {'min': 0, 'max': 17, 'palette': igbpPalette}, 'IGBP classification'\n",
    ")\n",
    "\n",
    "Map"
   ]
  },
  {
   "cell_type": "markdown",
   "id": "2a3fdc4b-b974-4cee-84d4-a7ac112e3c96",
   "metadata": {},
   "source": [
    "## Thumbnail images"
   ]
  },
  {
   "cell_type": "markdown",
   "id": "f7eba814-c918-4a64-90f4-74491b97ca57",
   "metadata": {},
   "source": [
    "Use the ee.Image.getThumbURL() method to generate a PNG or JPEG thumbnail image for an ee.Image object. Printing the outcome of an expression ending with a call to getThumbURL() results in a URL being printed to the console. Visiting the URL sets Earth Engine servers to work on generating the requested thumbnail on-the-fly. The image is displayed in the browser when processing completes. It can be downloaded by selecting appropriate options from the image’s right-click context menu.\n",
    "\n",
    "The getThumbURL() method shares parameters with Map.addLayer(), described in the visualization parameters table above. Additionally, it takes optional dimension, region, and crs arguments that control the spatial extent, size, and display projection of the thumbnail.\n",
    "\n",
    "A single-band image will default to grayscale unless a palette argument is supplied. A multi-band image will default to RGB visualization of the first three bands, unless a bands argument is supplied. If only two bands are provided, the first band will map to red, the second to blue, and the green channel will be zero filled.\n",
    "\n",
    "The following are a series of examples demonstrating various combinations of getThumbURL() parameter arguments. Visit the URLs printed to the console when you run this script to view the thumbnails."
   ]
  },
  {
   "cell_type": "code",
   "execution_count": 11,
   "id": "11691abb-f90b-47c5-942c-132d05b14283",
   "metadata": {},
   "outputs": [
    {
     "data": {
      "application/vnd.jupyter.widget-view+json": {
       "model_id": "18164e4e9afe4d94b6191cd094be3171",
       "version_major": 2,
       "version_minor": 0
      },
      "text/plain": [
       "Map(center=[37.501, -122.1899], controls=(WidgetControl(options=['position', 'transparent_bg'], widget=HBox(ch…"
      ]
     },
     "metadata": {},
     "output_type": "display_data"
    }
   ],
   "source": [
    "# Create a default map\n",
    "Map = geemap.Map()\n",
    "\n",
    "# Load an image.\n",
    "image = ee.Image('LANDSAT/LC08/C01/T1_TOA/LC08_044034_20140318')\n",
    "\n",
    "# Define the visualization parameters.\n",
    "vizParams = {'bands': ['B5', 'B4', 'B3'], 'min': 0, 'max': 0.5, 'gamma': [0.95, 1.1, 1]}\n",
    "\n",
    "# Center the map and display the image.\n",
    "Map.setCenter(-122.1899, 37.5010, 8)  # San Francisco Bay\n",
    "Map.addLayer(image, vizParams, 'false color composite')\n",
    "\n",
    "# Display the map\n",
    "Map"
   ]
  },
  {
   "cell_type": "code",
   "execution_count": 12,
   "id": "67b0afeb-fba5-4b85-84d7-fb42020f1fe9",
   "metadata": {},
   "outputs": [],
   "source": [
    "geemap.get_image_thumbnail(image, \"landsat.png\", vizParams, dimensions=1000)"
   ]
  },
  {
   "cell_type": "code",
   "execution_count": null,
   "id": "c94547c9-f6c7-4865-a5a5-7871057c181b",
   "metadata": {},
   "outputs": [],
   "source": []
  }
 ],
 "metadata": {
  "kernelspec": {
   "display_name": "Python 3 (ipykernel)",
   "language": "python",
   "name": "python3"
  },
  "language_info": {
   "codemirror_mode": {
    "name": "ipython",
    "version": 3
   },
   "file_extension": ".py",
   "mimetype": "text/x-python",
   "name": "python",
   "nbconvert_exporter": "python",
   "pygments_lexer": "ipython3",
   "version": "3.9.0"
  }
 },
 "nbformat": 4,
 "nbformat_minor": 5
}
