{
 "cells": [
  {
   "cell_type": "code",
   "execution_count": 4,
   "id": "de4efa2c-5c44-4a39-bfa7-be0ba35c4c36",
   "metadata": {},
   "outputs": [],
   "source": [
    "import ee\n",
    "import geemap\n",
    "Map = geemap.Map()"
   ]
  },
  {
   "cell_type": "markdown",
   "id": "4f060a89-21d7-4eec-a7db-2c9b4841951d",
   "metadata": {},
   "source": [
    "### Operators"
   ]
  },
  {
   "cell_type": "markdown",
   "id": "68e2a5a8-1f15-4a26-b026-fadb411d58b7",
   "metadata": {},
   "source": [
    "\n",
    "\n",
    "Math operators perform basic arithmetic operations on image bands. They take two inputs: either two images or one image and a constant term, which is interpreted as a single-band constant image with no masked pixels. Operations are performed per pixel for each band.\n",
    "\n",
    "As a simple example, consider the task of calculating the Normalized Difference Vegetation Index (NDVI) using Landsat imagery, where add(), subtract(), and divide() operators are used:\n",
    "\n"
   ]
  },
  {
   "cell_type": "code",
   "execution_count": 5,
   "id": "22ac7cae-4e09-40f2-a9e7-2e1d0b4bf2ab",
   "metadata": {},
   "outputs": [
    {
     "data": {
      "application/vnd.jupyter.widget-view+json": {
       "model_id": "7d7ab87acb334a089af03514b547cc8d",
       "version_major": 2,
       "version_minor": 0
      },
      "text/plain": [
       "Map(center=[20, 0], controls=(WidgetControl(options=['position', 'transparent_bg'], widget=HBox(children=(Togg…"
      ]
     },
     "metadata": {},
     "output_type": "display_data"
    }
   ],
   "source": [
    "# Load a 5-year Landsat 7 composite 1999-2003.\n",
    "landsat1999 = ee.Image('LANDSAT/LE7_TOA_5YEAR/1999_2003')\n",
    "\n",
    "# Compute NDVI.\n",
    "\n",
    "NIR = landsat1999.select('B4')\n",
    "Red = landsat1999.select('B3')\n",
    "\n",
    "ndvi1999 = NIR.subtract(Red).divide(NIR.add(Red))\n",
    "# outra maneira de calcular o ndvi é descomentando a linha abaixo\n",
    "# ndvi1999 = landsat1999.normalizedDifference(['B4', 'B3'])\n",
    "\n",
    "# Colocando a palheta de cores\n",
    "palette = [\n",
    "    'FFFFFF',\n",
    "    'CE7E45',\n",
    "    'DF923D',\n",
    "    'F1B555',\n",
    "    'FCD163',\n",
    "    '99B718',\n",
    "    '74A901',\n",
    "    '66A000',\n",
    "    '529400',\n",
    "    '3E8601',\n",
    "    '207401',\n",
    "    '056201',\n",
    "    '004C00',\n",
    "    '023B01',\n",
    "    '012E01',\n",
    "    '011D01',\n",
    "    '011301',\n",
    "]\n",
    "# Adicionando o ndvi ao Map\n",
    "Map.addLayer(ndvi1999, {'palette': palette}, \"NDVI 1999\")\n",
    "# Plotando o Map\n",
    "Map"
   ]
  },
  {
   "cell_type": "markdown",
   "id": "ebd981a7-f72f-4f2e-a2dc-4239a3761bfe",
   "metadata": {},
   "source": [
    "\n",
    "\n",
    "Only the intersection of unmasked pixels between the two inputs are considered and returned as unmasked, all else are masked. In general, if either input has only one band, then it is used against all the bands in the other input. If the inputs have the same number of bands, but not the same names, they're used pairwise in the natural order. The output bands are named for the longer of the two inputs, or if they're equal in length, in the first input's order. The type of the output pixels is the union of the input types.\n",
    "\n",
    "The following example of multi-band image subtraction demonstrates how bands are matched automatically, resulting in a “change vector” for each pixel for each co-occurring band.\n"
   ]
  },
  {
   "cell_type": "code",
   "execution_count": 6,
   "id": "6888e349-1ebb-47f2-8af9-92236fc2cfb7",
   "metadata": {},
   "outputs": [
    {
     "data": {
      "application/vnd.jupyter.widget-view+json": {
       "model_id": "7d7ab87acb334a089af03514b547cc8d",
       "version_major": 2,
       "version_minor": 0
      },
      "text/plain": [
       "Map(center=[20, 0], controls=(WidgetControl(options=['position', 'transparent_bg'], widget=HBox(children=(Togg…"
      ]
     },
     "metadata": {},
     "output_type": "display_data"
    }
   ],
   "source": [
    "# Load a 5-year Landsat 7 composite 2008-2012.\n",
    "landsat2008 = ee.Image('LANDSAT/LE7_TOA_5YEAR/2008_2012')\n",
    "\n",
    "# Compute multi-band difference between the 2008-2012 composite and the\n",
    "# previously loaded 1999-2003 composite.\n",
    "diff = landsat2008.subtract(landsat1999)\n",
    "Map.addLayer(diff, {'bands': ['B4', 'B3', 'B2'], 'min': -32, 'max': 32}, 'difference')\n",
    "\n",
    "# Compute the squared difference in each band.\n",
    "squaredDifference = diff.pow(2)\n",
    "Map.addLayer(\n",
    "    squaredDifference, {'bands': ['B4', 'B3', 'B2'], 'max': 1000}, 'squared diff.'\n",
    ")\n",
    "Map"
   ]
  },
  {
   "cell_type": "markdown",
   "id": "39c8ec7a-ccce-40de-8b4b-7992b6ede3ad",
   "metadata": {},
   "source": [
    "\n",
    "\n",
    "In the second part of this example, the squared difference is computed using image.pow(2). For the complete list of mathematical operators handling basic arithmetic, trigonometry, exponentiation, rounding, casting, bitwise operations and more, see the API documentation (in the Docs tab of the Earth Engine Code Editor).\n"
   ]
  },
  {
   "cell_type": "markdown",
   "id": "0c54d36d-9e0b-4d7c-97fb-80342523ecf2",
   "metadata": {},
   "source": [
    "### Expressions"
   ]
  },
  {
   "cell_type": "markdown",
   "id": "d1fce30d-1e6f-4445-9980-063679db92f1",
   "metadata": {},
   "source": [
    "To implement more complex mathematical expressions, it may be more convenient to use image.expression(), which parses a text representation of a math operation. The following example uses expression() to compute the Enhanced Vegetation Index (EVI):"
   ]
  },
  {
   "cell_type": "code",
   "execution_count": 7,
   "id": "a6963396-55b9-4cb2-8bf7-968dd9880edc",
   "metadata": {},
   "outputs": [
    {
     "data": {
      "application/vnd.jupyter.widget-view+json": {
       "model_id": "7d7ab87acb334a089af03514b547cc8d",
       "version_major": 2,
       "version_minor": 0
      },
      "text/plain": [
       "Map(center=[37.471602850590656, -122.14451407746262], controls=(WidgetControl(options=['position', 'transparen…"
      ]
     },
     "metadata": {},
     "output_type": "display_data"
    }
   ],
   "source": [
    "# Load a Landsat 8 image.\n",
    "image = ee.Image('LANDSAT/LC08/C01/T1_TOA/LC08_044034_20140318')\n",
    "\n",
    "# Compute the EVI using an expression.\n",
    "evi = image.expression(\n",
    "    '2.5 * ((NIR - RED) / (NIR + 6 * RED - 7.5 * BLUE + 1))',\n",
    "    {'NIR': image.select('B5'), 'RED': image.select('B4'), 'BLUE': image.select('B2')},\n",
    ")\n",
    "\n",
    "Map.centerObject(image, 9)\n",
    "Map.addLayer(image, {'bands': ['B5', 'B4', 'B3']}, 'Landsat 8')\n",
    "Map.addLayer(evi, {'min': -1, 'max': 1, 'palette': ['FF0000', '00FF00']}, 'EVI')\n",
    "Map"
   ]
  },
  {
   "cell_type": "markdown",
   "id": "1a2b826f-22e2-4613-be89-0435925d2143",
   "metadata": {},
   "source": [
    "\n",
    "\n",
    "Observe that the first argument to expression is the textual representation of the math operation, the second argument is a dictionary where the keys are variable names used in the expression and the values are the image bands to which the variables should be mapped. Bands in the image may be referred to as b(\"band name\") or b(index), for example b(0), instead of providing the dictionary. Note that division functions as it does in Python: dividing two integers results in an integer. For example 10 / 20 = 0. To change this behavior, multiply one of the operands by 1.0: 10 * 1.0 / 20 = 0.5. Supported expression operators are listed in the following table."
   ]
  },
  {
   "cell_type": "code",
   "execution_count": null,
   "id": "e3151c1b-ab46-49c3-8c13-8e95a46c9075",
   "metadata": {},
   "outputs": [],
   "source": []
  }
 ],
 "metadata": {
  "kernelspec": {
   "display_name": "Python 3 (ipykernel)",
   "language": "python",
   "name": "python3"
  },
  "language_info": {
   "codemirror_mode": {
    "name": "ipython",
    "version": 3
   },
   "file_extension": ".py",
   "mimetype": "text/x-python",
   "name": "python",
   "nbconvert_exporter": "python",
   "pygments_lexer": "ipython3",
   "version": "3.9.0"
  }
 },
 "nbformat": 4,
 "nbformat_minor": 5
}
