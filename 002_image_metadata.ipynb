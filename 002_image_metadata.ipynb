{
 "cells": [
  {
   "cell_type": "code",
   "execution_count": 2,
   "id": "97fa87b6-caa5-41d3-b133-5975b45ecd93",
   "metadata": {},
   "outputs": [],
   "source": [
    "# Import libraries\n",
    "import ee\n",
    "import geemap"
   ]
  },
  {
   "cell_type": "code",
   "execution_count": 5,
   "id": "96e0bfaa-acb4-4e31-bbc2-7cfae8e43304",
   "metadata": {},
   "outputs": [],
   "source": [
    "# Create an interactive map\n",
    "Map = geemap.Map()"
   ]
  },
  {
   "cell_type": "markdown",
   "id": "ae6d40d1-8674-404d-923c-0d6cd421f461",
   "metadata": {},
   "source": [
    "Display data on the map"
   ]
  },
  {
   "cell_type": "code",
   "execution_count": 6,
   "id": "609d28fd-0471-41b8-83eb-5d35f8279a74",
   "metadata": {},
   "outputs": [
    {
     "data": {
      "application/vnd.jupyter.widget-view+json": {
       "model_id": "d07486d47c304a5ea427c9d841cd07bf",
       "version_major": 2,
       "version_minor": 0
      },
      "text/plain": [
       "Map(center=[37.474222306306004, -122.15868851593888], controls=(WidgetControl(options=['position', 'transparen…"
      ]
     },
     "metadata": {},
     "output_type": "display_data"
    }
   ],
   "source": [
    "# Load an image.\n",
    "image = ee.Image('LANDSAT/LC08/C01/T1_SR/LC08_044034_20140318')\n",
    "vis_params = {\n",
    "    'bands': ['B5', 'B4', 'B3'],\n",
    "    'min': 0.0,\n",
    "    'max': 3000,\n",
    "    'opacity': 1.0,\n",
    "    'gamma': 1.2,\n",
    "}\n",
    "\n",
    "# Center the map and display the image.\n",
    "Map.centerObject(image, zoom=8)\n",
    "Map.addLayer(image, vis_params, 'Landsat')\n",
    "Map"
   ]
  },
  {
   "cell_type": "markdown",
   "id": "471d699d-ba16-4b05-bfb5-c07dd0af8efd",
   "metadata": {},
   "source": [
    "# Get image metadata"
   ]
  },
  {
   "cell_type": "code",
   "execution_count": 7,
   "id": "0b3ba166-bc19-49d4-b359-258c1bd0e34c",
   "metadata": {},
   "outputs": [
    {
     "name": "stdout",
     "output_type": "stream",
     "text": [
      "Band names:  ['B1', 'B2', 'B3', 'B4', 'B5', 'B6', 'B7', 'B10', 'B11', 'sr_aerosol', 'pixel_qa', 'radsat_qa']\n"
     ]
    }
   ],
   "source": [
    "# Get information about the bands as a list.\n",
    "bandNames = image.bandNames()\n",
    "print('Band names: ', bandNames.getInfo())"
   ]
  },
  {
   "cell_type": "code",
   "execution_count": 8,
   "id": "4f004e9c-6702-4d11-8210-65e91e4f9c82",
   "metadata": {},
   "outputs": [
    {
     "name": "stdout",
     "output_type": "stream",
     "text": [
      "Band 1 projection:  {'type': 'Projection', 'crs': 'EPSG:32610', 'transform': [30, 0, 460785, 0, -30, 4264215]}\n"
     ]
    }
   ],
   "source": [
    "# Get projection information from band 1.\n",
    "b1proj = image.select('B1').projection()\n",
    "print('Band 1 projection: ', b1proj.getInfo())\n"
   ]
  },
  {
   "cell_type": "code",
   "execution_count": 12,
   "id": "a4bdba45-a65b-4816-a539-7c2b2a85783f",
   "metadata": {},
   "outputs": [
    {
     "name": "stdout",
     "output_type": "stream",
     "text": [
      "Band 1 scale:  30\n"
     ]
    }
   ],
   "source": [
    "# Get scale (in meters) information from band 1.\n",
    "b1scale = image.select('B1').projection().nominalScale()\n",
    "print('Band 1 scale: ', b1scale.getInfo())"
   ]
  },
  {
   "cell_type": "code",
   "execution_count": 13,
   "id": "f0ab44b3-0e88-4d04-968e-a3b84d394d28",
   "metadata": {},
   "outputs": [
    {
     "name": "stdout",
     "output_type": "stream",
     "text": [
      "Band 10 scale:  30\n"
     ]
    }
   ],
   "source": [
    "# Note that different bands can have different projections and scale.\n",
    "b10scale = image.select('B10').projection().nominalScale()\n",
    "print('Band 10 scale: ', b10scale.getInfo())\n"
   ]
  },
  {
   "cell_type": "code",
   "execution_count": 14,
   "id": "e9516268-5a4a-4e03-9927-5c4b100dbb1b",
   "metadata": {},
   "outputs": [
    {
     "name": "stdout",
     "output_type": "stream",
     "text": [
      "Metadata properties:  ['IMAGE_QUALITY_TIRS', 'CLOUD_COVER', 'system:id', 'EARTH_SUN_DISTANCE', 'LANDSAT_ID', 'system:footprint', 'system:version', 'CLOUD_COVER_LAND', 'GEOMETRIC_RMSE_MODEL', 'SR_APP_VERSION', 'SATELLITE', 'SOLAR_AZIMUTH_ANGLE', 'IMAGE_QUALITY_OLI', 'WRS_PATH', 'system:time_start', 'SENSING_TIME', 'ESPA_VERSION', 'SOLAR_ZENITH_ANGLE', 'WRS_ROW', 'GEOMETRIC_RMSE_MODEL_Y', 'LEVEL1_PRODUCTION_DATE', 'GEOMETRIC_RMSE_MODEL_X', 'system:asset_size', 'PIXEL_QA_VERSION', 'system:index', 'system:bands', 'system:band_names']\n"
     ]
    }
   ],
   "source": [
    "# Get a list of all metadata properties.\n",
    "properties = image.propertyNames()\n",
    "print('Metadata properties: ', properties.getInfo())"
   ]
  },
  {
   "cell_type": "code",
   "execution_count": 15,
   "id": "6fee0d7e-91c2-4175-8ba2-e89565c9d970",
   "metadata": {},
   "outputs": [
    {
     "name": "stdout",
     "output_type": "stream",
     "text": [
      "CLOUD_COVER:  0.06\n"
     ]
    }
   ],
   "source": [
    "# Get a specific metadata property.\n",
    "cloudiness = image.get('CLOUD_COVER')\n",
    "print('CLOUD_COVER: ', cloudiness.getInfo())"
   ]
  },
  {
   "cell_type": "markdown",
   "id": "93c6f069-8ca6-471b-ad0e-ec7d706d9a86",
   "metadata": {},
   "source": [
    "Get the timestamp and convert it to a date."
   ]
  },
  {
   "cell_type": "code",
   "execution_count": 17,
   "id": "c90fc464-e38b-4f89-b398-b1cfd1bc50cb",
   "metadata": {},
   "outputs": [
    {
     "name": "stdout",
     "output_type": "stream",
     "text": [
      "Timestamp:  {'type': 'Date', 'value': 1395168392050}\n"
     ]
    }
   ],
   "source": [
    "date = ee.Date(image.get('system:time_start'))\n",
    "print('Timestamp: ', date.getInfo())"
   ]
  },
  {
   "cell_type": "code",
   "execution_count": 18,
   "id": "ecb12bfe-a618-484f-9417-5c71492e1528",
   "metadata": {},
   "outputs": [
    {
     "name": "stdout",
     "output_type": "stream",
     "text": [
      "Timestamp:  2014-03-18\n"
     ]
    }
   ],
   "source": [
    "# Para converter o formato de data para o convencional:\n",
    "date2 = date.format('YYYY-MM-dd')\n",
    "print('Timestamp: ', date2.getInfo())"
   ]
  },
  {
   "cell_type": "markdown",
   "id": "e2fb68ac-6188-478b-8e82-edf5128dee69",
   "metadata": {},
   "source": [
    "# Use geemap to get image metadata"
   ]
  },
  {
   "cell_type": "code",
   "execution_count": 19,
   "id": "f1299ee7-af3a-4092-994e-b0daf428981e",
   "metadata": {},
   "outputs": [],
   "source": [
    "image_props = geemap.image_props(image)\n"
   ]
  },
  {
   "cell_type": "code",
   "execution_count": 20,
   "id": "fa972f44-e45f-45dc-bb4c-5a769e3a5f01",
   "metadata": {},
   "outputs": [
    {
     "data": {
      "text/plain": [
       "{'CLOUD_COVER': 0.06,\n",
       " 'CLOUD_COVER_LAND': 0.1,\n",
       " 'EARTH_SUN_DISTANCE': 0.995371,\n",
       " 'ESPA_VERSION': '2_23_0_1a',\n",
       " 'GEOMETRIC_RMSE_MODEL': 6.78,\n",
       " 'GEOMETRIC_RMSE_MODEL_X': 4.841,\n",
       " 'GEOMETRIC_RMSE_MODEL_Y': 4.747,\n",
       " 'IMAGE_DATE': '2014-03-18',\n",
       " 'IMAGE_QUALITY_OLI': 9,\n",
       " 'IMAGE_QUALITY_TIRS': 9,\n",
       " 'LANDSAT_ID': 'LC08_L1TP_044034_20140318_20170307_01_T1',\n",
       " 'LEVEL1_PRODUCTION_DATE': 1488849349000,\n",
       " 'NOMINAL_SCALE': 30,\n",
       " 'PIXEL_QA_VERSION': 'generate_pixel_qa_1.6.0',\n",
       " 'SATELLITE': 'LANDSAT_8',\n",
       " 'SENSING_TIME': '2014-03-18T18:46:32.0535800Z',\n",
       " 'SOLAR_AZIMUTH_ANGLE': 146.239578,\n",
       " 'SOLAR_ZENITH_ANGLE': 43.528934,\n",
       " 'SR_APP_VERSION': 'LaSRC_1.3.0',\n",
       " 'WRS_PATH': 44,\n",
       " 'WRS_ROW': 34,\n",
       " 'system:asset_size': '540.072009 MB',\n",
       " 'system:band_names': ['B1',\n",
       "  'B2',\n",
       "  'B3',\n",
       "  'B4',\n",
       "  'B5',\n",
       "  'B6',\n",
       "  'B7',\n",
       "  'B10',\n",
       "  'B11',\n",
       "  'sr_aerosol',\n",
       "  'pixel_qa',\n",
       "  'radsat_qa'],\n",
       " 'system:id': 'LANDSAT/LC08/C01/T1_SR/LC08_044034_20140318',\n",
       " 'system:index': 'LC08_044034_20140318',\n",
       " 'system:time_end': '2014-03-18 18:46:32',\n",
       " 'system:time_start': '2014-03-18 18:46:32',\n",
       " 'system:version': 1522720282729760.0}"
      ]
     },
     "execution_count": 20,
     "metadata": {},
     "output_type": "execute_result"
    }
   ],
   "source": [
    "image_props.getInfo()"
   ]
  },
  {
   "cell_type": "code",
   "execution_count": null,
   "id": "122c8f4c-101f-4629-92ea-678f4a312d4e",
   "metadata": {},
   "outputs": [],
   "source": []
  }
 ],
 "metadata": {
  "kernelspec": {
   "display_name": "Python 3 (ipykernel)",
   "language": "python",
   "name": "python3"
  },
  "language_info": {
   "codemirror_mode": {
    "name": "ipython",
    "version": 3
   },
   "file_extension": ".py",
   "mimetype": "text/x-python",
   "name": "python",
   "nbconvert_exporter": "python",
   "pygments_lexer": "ipython3",
   "version": "3.9.0"
  }
 },
 "nbformat": 4,
 "nbformat_minor": 5
}
