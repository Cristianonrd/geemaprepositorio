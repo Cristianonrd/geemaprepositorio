{
 "cells": [
  {
   "cell_type": "code",
   "execution_count": 3,
   "id": "26e49d9d-0972-42ca-aee8-a6537c42fc24",
   "metadata": {},
   "outputs": [],
   "source": [
    "import ee\n",
    "import geemap"
   ]
  },
  {
   "cell_type": "code",
   "execution_count": 4,
   "id": "7e5d1281-ce84-4576-bb6c-0d4067983871",
   "metadata": {},
   "outputs": [],
   "source": [
    "# Configurando o ambiente que abre o mapa\n",
    "Map = geemap.Map(basemap=\"HYBRID\")"
   ]
  },
  {
   "cell_type": "code",
   "execution_count": null,
   "id": "208398f4-51bb-4756-8952-ee1d99b846bd",
   "metadata": {},
   "outputs": [],
   "source": []
  }
 ],
 "metadata": {
  "kernelspec": {
   "display_name": "Python 3 (ipykernel)",
   "language": "python",
   "name": "python3"
  },
  "language_info": {
   "codemirror_mode": {
    "name": "ipython",
    "version": 3
   },
   "file_extension": ".py",
   "mimetype": "text/x-python",
   "name": "python",
   "nbconvert_exporter": "python",
   "pygments_lexer": "ipython3",
   "version": "3.9.0"
  }
 },
 "nbformat": 4,
 "nbformat_minor": 5
}
